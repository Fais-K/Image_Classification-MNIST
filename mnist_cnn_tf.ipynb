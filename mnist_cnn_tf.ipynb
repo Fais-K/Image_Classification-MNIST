{
 "cells": [
  {
   "cell_type": "markdown",
   "metadata": {},
   "source": [
    "# MNIST Classification using TensorFlow Core"
   ]
  },
  {
   "cell_type": "code",
   "execution_count": 1,
   "metadata": {},
   "outputs": [],
   "source": [
    "from tensorflow.keras.layers import Conv2D, Flatten, Dense, BatchNormalization, MaxPool2D, Dropout\n",
    "from tensorflow.keras import Model\n",
    "import tensorflow as tf\n",
    "import matplotlib.pyplot as plt\n",
    "import numpy as np"
   ]
  },
  {
   "cell_type": "code",
   "execution_count": 2,
   "metadata": {},
   "outputs": [],
   "source": [
    "mnist = tf.keras.datasets.mnist\n",
    "\n",
    "(x_train, y_train), (x_test, y_test) = mnist.load_data()\n",
    "x_train, x_test = x_train/255, x_test/255\n",
    "\n",
    "x_train = x_train[..., tf.newaxis]\n",
    "x_test = x_test[..., tf.newaxis]"
   ]
  },
  {
   "cell_type": "code",
   "execution_count": 3,
   "metadata": {},
   "outputs": [],
   "source": [
    "train_data = tf.data.Dataset.from_tensor_slices((x_train, y_train)).shuffle(10000).batch(32)\n",
    "test_data = tf.data.Dataset.from_tensor_slices((x_test, y_test)).batch(32)"
   ]
  },
  {
   "cell_type": "code",
   "execution_count": 4,
   "metadata": {},
   "outputs": [],
   "source": [
    "class MyModel(Model):\n",
    "    def __init__(self):\n",
    "        super(MyModel, self).__init__()\n",
    "        self.conv1 = Conv2D(32, 3, activation='relu')\n",
    "        self.bn1 = BatchNormalization()\n",
    "        self.conv2 = Conv2D(64, 3, activation='relu')\n",
    "        self.pool1 = MaxPool2D(pool_size=(2, 2), strides=(2, 2))\n",
    "        self.conv3 = Conv2D(64, 3, activation='relu')\n",
    "        self.pool2 = MaxPool2D(pool_size=(2, 2), strides=(2, 2))\n",
    "        \n",
    "        self.flatten = Flatten()\n",
    "        self.d1 = Dense(512, activation='relu')\n",
    "        self.drop1 = Dropout(0.2)\n",
    "        self.d2 = Dense(128, activation='relu')\n",
    "        self.drop2 = Dropout(0.1)        \n",
    "        self.d3 = Dense(10)\n",
    "        \n",
    "    def call(self, x):\n",
    "        x = self.conv1(x)\n",
    "        x = self.bn1(x)\n",
    "        x = self.pool1(self.conv2(x))\n",
    "        x = self.pool2(self.conv3(x))\n",
    "        \n",
    "        x = self.flatten(x)\n",
    "        x = self.d1(x)\n",
    "        x = self.drop1(x)\n",
    "        x = self.drop2(self.d2(x))\n",
    "        \n",
    "        return self.d3(x)\n",
    "\n",
    "model = MyModel()"
   ]
  },
  {
   "cell_type": "code",
   "execution_count": 5,
   "metadata": {},
   "outputs": [],
   "source": [
    "loss_func = tf.keras.losses.SparseCategoricalCrossentropy(from_logits=True)\n",
    "optimizer = tf.keras.optimizers.Adam()"
   ]
  },
  {
   "cell_type": "code",
   "execution_count": 6,
   "metadata": {},
   "outputs": [],
   "source": [
    "train_loss = tf.keras.metrics.Mean(name='train_loss')\n",
    "train_accuracy = tf.keras.metrics.SparseCategoricalAccuracy(name='train_accuracy')\n",
    "\n",
    "test_loss = tf.keras.metrics.Mean(name='test_loss')\n",
    "test_accuracy = tf.keras.metrics.SparseCategoricalAccuracy(name='test_accuracy')"
   ]
  },
  {
   "cell_type": "code",
   "execution_count": 7,
   "metadata": {},
   "outputs": [],
   "source": [
    "@tf.function\n",
    "def train(images, labels):\n",
    "    with tf.GradientTape() as tape:\n",
    "        predictions = model(images, training=True)\n",
    "        loss = loss_func(labels, predictions)\n",
    "    gradients = tape.gradient(loss, model.trainable_variables)\n",
    "    optimizer.apply_gradients(zip(gradients, model.trainable_variables))\n",
    "    \n",
    "    train_loss(loss)\n",
    "    train_accuracy(labels, predictions)\n",
    "        "
   ]
  },
  {
   "cell_type": "code",
   "execution_count": 8,
   "metadata": {},
   "outputs": [],
   "source": [
    "@tf.function\n",
    "def test(images, labels):\n",
    "    predictions = model(images, training=False)\n",
    "    loss = loss_func(label, predictions)\n",
    "    \n",
    "    test_loss(loss)\n",
    "    test_accuracy(labels, predictions)"
   ]
  },
  {
   "cell_type": "code",
   "execution_count": 9,
   "metadata": {},
   "outputs": [
    {
     "name": "stdout",
     "output_type": "stream",
     "text": [
      "WARNING:tensorflow:Layer my_model is casting an input tensor from dtype float64 to the layer's dtype of float32, which is new behavior in TensorFlow 2.  The layer has dtype float32 because it's dtype defaults to floatx.\n",
      "\n",
      "If you intended to run this layer in float32, you can safely ignore this warning. If in doubt, this warning is likely only an issue if you are porting a TensorFlow 1.X model to TensorFlow 2.\n",
      "\n",
      "To change all layers to have dtype float64 by default, call `tf.keras.backend.set_floatx('float64')`. To change just this layer, pass dtype='float64' to the layer constructor. If you are the author of this layer, you can disable autocasting by passing autocast=False to the base Layer constructor.\n",
      "\n",
      "Epoch 1, Loss: 0.1160593256354332, Accuracy: 96.54166412353516, Test Loss: 13.152195930480957, Test Accuracy: 98.68000030517578\n",
      "Epoch 2, Loss: 0.04869762063026428, Accuracy: 98.53500366210938, Test Loss: 15.444615364074707, Test Accuracy: 99.08999633789062\n",
      "Epoch 3, Loss: 0.037768445909023285, Accuracy: 98.9433364868164, Test Loss: 19.364654541015625, Test Accuracy: 98.97000122070312\n",
      "Epoch 4, Loss: 0.029975909739732742, Accuracy: 99.125, Test Loss: 16.1212100982666, Test Accuracy: 99.01000213623047\n",
      "Epoch 5, Loss: 0.026496468111872673, Accuracy: 99.24166870117188, Test Loss: 19.861295700073242, Test Accuracy: 98.94000244140625\n",
      "Epoch 6, Loss: 0.02277081087231636, Accuracy: 99.36333465576172, Test Loss: 24.165651321411133, Test Accuracy: 99.12999725341797\n",
      "Epoch 7, Loss: 0.01910310424864292, Accuracy: 99.42832946777344, Test Loss: 31.026020050048828, Test Accuracy: 99.02999877929688\n",
      "Epoch 8, Loss: 0.017185280099511147, Accuracy: 99.53333282470703, Test Loss: 28.91651153564453, Test Accuracy: 99.1199951171875\n",
      "Epoch 9, Loss: 0.015781817957758904, Accuracy: 99.55833435058594, Test Loss: 30.293916702270508, Test Accuracy: 99.11000061035156\n",
      "Epoch 10, Loss: 0.015114947222173214, Accuracy: 99.56832885742188, Test Loss: 30.1660213470459, Test Accuracy: 99.29999542236328\n"
     ]
    }
   ],
   "source": [
    "EPOCHS = 10\n",
    "\n",
    "train_loss_list = []\n",
    "test_loss_list = []\n",
    "train_accuracy_list = []\n",
    "test_accuracy_list = []\n",
    "\n",
    "for epoch in range(EPOCHS):\n",
    "    train_loss.reset_states()\n",
    "    test_loss.reset_states()\n",
    "    train_accuracy.reset_states()\n",
    "    test_accuracy.reset_states()\n",
    "    \n",
    "    for images, labels in train_data:\n",
    "        train(images, labels)\n",
    "    \n",
    "    for image, label in test_data:\n",
    "        test(image, label)\n",
    "    \n",
    "    train_loss_list.append(train_loss.result())\n",
    "    test_loss_list.append(test_loss.result())\n",
    "    train_accuracy_list.append(train_accuracy.result())\n",
    "    test_accuracy_list.append(test_accuracy.result())\n",
    "        \n",
    "    template = 'Epoch {}, Loss: {}, Accuracy: {}, Test Loss: {}, Test Accuracy: {}'\n",
    "    print(template.format(epoch + 1,\n",
    "                        train_loss.result(),\n",
    "                        train_accuracy.result() * 100,\n",
    "                        test_loss.result(),\n",
    "                        test_accuracy.result() * 100))"
   ]
  },
  {
   "cell_type": "code",
   "execution_count": 10,
   "metadata": {},
   "outputs": [
    {
     "data": {
      "text/plain": [
       "<matplotlib.legend.Legend at 0x7fbc24eb6160>"
      ]
     },
     "execution_count": 10,
     "metadata": {},
     "output_type": "execute_result"
    },
    {
     "data": {
      "image/png": "[encoded data removed]",
      "text/plain": [
       "<Figure size 720x432 with 1 Axes>"
      ]
     },
     "metadata": {
      "needs_background": "light"
     },
     "output_type": "display_data"
    }
   ],
   "source": [
    "plt.figure(figsize=[10, 6])\n",
    "plt.plot(np.arange(EPOCHS), train_loss_list)\n",
    "plt.plot(np.arange(EPOCHS), test_loss_list)\n",
    "plt.xlabel('epochs')\n",
    "plt.ylabel('loss')\n",
    "plt.legend(['train', 'test'])"
   ]
  },
  {
   "cell_type": "code",
   "execution_count": 11,
   "metadata": {},
   "outputs": [
    {
     "data": {
      "text/plain": [
       "<matplotlib.legend.Legend at 0x7fbc24a13588>"
      ]
     },
     "execution_count": 11,
     "metadata": {},
     "output_type": "execute_result"
    },
    {
     "data": {
      "image/png": "[encoded data removed]",
      "text/plain": [
       "<Figure size 720x432 with 1 Axes>"
      ]
     },
     "metadata": {
      "needs_background": "light"
     },
     "output_type": "display_data"
    }
   ],
   "source": [
    "plt.figure(figsize=[10, 6])\n",
    "plt.plot(np.arange(EPOCHS), train_accuracy_list)\n",
    "plt.plot(np.arange(EPOCHS), test_accuracy_list)\n",
    "plt.xlabel('epochs')\n",
    "plt.ylabel('accuracy')\n",
    "plt.legend(['train', 'test'])"
   ]
  },
  {
   "cell_type": "code",
   "execution_count": null,
   "metadata": {},
   "outputs": [],
   "source": []
  }
 ],
 "metadata": {
  "kernelspec": {
   "display_name": "Python 3",
   "language": "python",
   "name": "python3"
  },
  "language_info": {
   "codemirror_mode": {
    "name": "ipython",
    "version": 3
   },
   "file_extension": ".py",
   "mimetype": "text/x-python",
   "name": "python",
   "nbconvert_exporter": "python",
   "pygments_lexer": "ipython3",
   "version": "3.6.9"
  }
 },
 "nbformat": 4,
 "nbformat_minor": 2
}
